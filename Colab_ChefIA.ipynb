{
  "nbformat": 4,
  "nbformat_minor": 0,
  "metadata": {
    "colab": {
      "provenance": [],
      "authorship_tag": "ABX9TyMFDEVD6aNk/7Zc5ZQwwpq6",
      "include_colab_link": true
    },
    "kernelspec": {
      "name": "python3",
      "display_name": "Python 3"
    },
    "language_info": {
      "name": "python"
    }
  },
  "cells": [
    {
      "cell_type": "markdown",
      "metadata": {
        "id": "view-in-github",
        "colab_type": "text"
      },
      "source": [
        "<a href=\"https://colab.research.google.com/github/fscherers/ChefIA/blob/main/Colab_ChefIA.ipynb\" target=\"_parent\"><img src=\"https://colab.research.google.com/assets/colab-badge.svg\" alt=\"Open In Colab\"/></a>"
      ]
    },
    {
      "cell_type": "code",
      "source": [
        "!pip -q install google-genai\n",
        "!pip install pytz\n",
        "!pip install -q google-adk"
      ],
      "metadata": {
        "colab": {
          "base_uri": "https://localhost:8080/"
        },
        "id": "Irf433Dpr-GY",
        "outputId": "b18ccb05-c112-4d44-bce3-1769ea36975f"
      },
      "execution_count": 21,
      "outputs": [
        {
          "output_type": "stream",
          "name": "stdout",
          "text": [
            "Requirement already satisfied: pytz in /usr/local/lib/python3.11/dist-packages (2025.2)\n"
          ]
        }
      ]
    },
    {
      "cell_type": "code",
      "source": [
        "import os\n",
        "import pytz\n",
        "import datetime\n",
        "from google.colab import userdata\n",
        "\n",
        "# Configura a API Key do Google Gemini\n",
        "os.environ[\"GOOGLE_API_KEY\"] = userdata.get('GOOGLE_API_KEY')\n",
        "\n",
        "from google.adk.agents import Agent\n",
        "from google.adk.runners import Runner\n",
        "from google.adk.sessions import InMemorySessionService\n",
        "from google.adk.tools import google_search\n",
        "from google.genai import types\n",
        "import textwrap\n",
        "from IPython.display import display, Markdown\n",
        "import requests\n",
        "import warnings"
      ],
      "metadata": {
        "id": "G71PnUovNvlj"
      },
      "execution_count": 22,
      "outputs": []
    },
    {
      "cell_type": "code",
      "source": [
        "# --- Funções Auxiliares ---\n",
        "\n",
        "# Função auxiliar que envia uma mensagem para um agente via Runner e retorna a resposta final\n",
        "def call_agent(agent: Agent, message_text: str) -> str:\n",
        "    \"\"\"\n",
        "    Envia uma mensagem a um agente e retorna sua resposta final.\n",
        "    Cria uma nova sessão para cada chamada, não mantendo histórico entre chamadas\n",
        "    diferentes.\n",
        "    \"\"\"\n",
        "    session_service = InMemorySessionService()\n",
        "    session = session_service.create_session(app_name=agent.name, user_id=\"user1\", session_id=\"session1\")\n",
        "    runner = Runner(agent=agent, app_name=agent.name, session_service=session_service)\n",
        "    content = types.Content(role=\"user\", parts=[types.Part(text=message_text)])\n",
        "\n",
        "    final_response = \"\"\n",
        "    for event in runner.run(user_id=\"user1\", session_id=\"session1\", new_message=content):\n",
        "        if event.is_final_response():\n",
        "            for part in event.content.parts:\n",
        "                if part.text is not None:\n",
        "                    final_response += part.text\n",
        "                    final_response += \"\\n\"\n",
        "    return final_response\n",
        "\n",
        "# Função auxiliar para exibir texto formatado em Markdown no Colab\n",
        "def to_markdown(text):\n",
        "    text = text.replace('•', '  *') # Ajuste para renderização Markdown mais consistente\n",
        "    return Markdown(textwrap.indent(text, '> ', predicate=lambda _: True))"
      ],
      "metadata": {
        "id": "pOy9g76wNoZa"
      },
      "execution_count": 23,
      "outputs": []
    },
    {
      "cell_type": "code",
      "source": [
        "# --- Definição dos Agentes ---\n",
        "\n",
        "##########################################\n",
        "# --- Agente 1: Investigador de Preferências do Usuário ---\n",
        "##########################################\n",
        "def agente_investigador(topico_inicial=None, data_e_hora_atual=None):\n",
        "    investigador = Agent(\n",
        "        name=\"agente_investigador\",\n",
        "        model=\"gemini-2.5-flash-preview-04-17\",\n",
        "        instruction=\"\"\"\n",
        "        Você é um assistente culinário. Sua principal missão é coletar TODAS as informações necessárias do usuário para que outros agentes possam planejar uma receita e seu preparo.\n",
        "\n",
        "        Você DEVE obter as seguintes 5 informações, de forma amigável, gentil, descolada, sucinta, uma informação de cada vez com perguntas diretas e pouquíssimas palavras:\n",
        "        1.  **Ingredientes disponíveis:** Quais ingredientes a pessoa já possui em casa?\n",
        "        2.  **Disposição para comprar:** A pessoa está disposta a comprar mais ingredientes? (Responda \"Sim\" ou \"Não\")\n",
        "        3.  **Detalhes da compra (se sim):** Se a pessoa estiver disposta a comprar, quanto ela quer gastar com isso (orçamento)? E qual o **endereço completo** dela para as compras (incluindo **rua, número, bairro, cidade e estado**, se possível)? Você pode consultar as informações recebidas usando a busca do Google (google_search) para conferir se consegue localizar o endereço com precisão. É **CRUCIAL** que você obtenha um endereço o mais preciso possível. Se a informação inicial não for suficientemente precisa para uma busca de lojas ou cálculo de rota (ex: apenas bairro e cidade), **você DEVE solicitar ativamente mais detalhes, como rua e número**, antes de finalizar a conversa.\n",
        "        4.  **Tempo de preparo:** Qual o tempo total que a pessoa tem disponível para preparar a comida (sem contar o tempo de compra, se aplicável)?\n",
        "        5.  **Momento de preparo:** Quando a pessoa deseja fazer a receita?\n",
        "\n",
        "        **Sua conduta:**\n",
        "        * **Contexto da Conversa:** Você receberá o histórico da conversa até o momento. Use-o para entender o que já foi perguntado e respondido, e para identificar as informações que ainda faltam. Nunca se comunique de forma que a interpretação possa ser dúbia.\n",
        "        * **Início da conversa:** Comece a conversa pedindo os ingredientes disponíveis ou uma ideia geral do que a pessoa quer cozinhar.\n",
        "        * **Iteração:** A cada resposta do usuário, revise as 5 informações que você precisa.\n",
        "            * **Se faltar alguma informação:** Pergunte CLARAMENTE e OBJETIVAMENTE o que ainda é necessário. Seja específico e não passe para a próxima etapa sem coletar o que falta. Não peça mais do que uma informação por vez. Seja SEMPRE gentil e divertido.\n",
        "            Exemplo: \"Ótimo! E quanto tempo você tem disponível para o preparo?\".\n",
        "            * **Se tiver todas as informações:** Responda com um resumo PRECISO de todas as 5 informações coletadas, iniciando com \"FIM\", seguindo o formato abaixo. Esta é a sua sinalização de que o trabalho de coleta está concluído.\n",
        "\n",
        "        **Formato de Saída Final (APENAS QUANDO TIVER TUDO, NÃO RESPONDA NADA ALÉM DO QUE ESTÁ NO FORMATO DE SAÍDA):**\n",
        "        FIM\n",
        "        Ingredientes disponíveis: [Lista de ingredientes obtida, ex: \"frango, arroz, cebola\"]\n",
        "        Disposto a comprar ingredientes: [Sim/Não]\n",
        "        Orçamento para compras: [Valor em R$, ex: \"R$ 50\" ou \"Não aplica\"]\n",
        "        Localização para compras: [Bairro - Cidade - ESTADO (ou endereço completo), ex: \"Passo D'Areia - Porto Alegre - RS\" ou \"Av. Grécia, 887 - Passo D'Areia - Porto Alegre - RS\" ou \"Não aplica\"]\n",
        "        Tempo disponível para preparo: [Tempo total, ex: \"1 hora e 30 minutos\"]\n",
        "        Data e hora desejada para preparo: [Data e hora, ex: \"Hoje à noite, 19:00\"]\n",
        "        \"\"\",\n",
        "        description=\"Agente que coleta e organiza informações do usuário para planejamento de receitas.\",\n",
        "        tools=[google_search]\n",
        "    )\n",
        "    return investigador\n",
        "\n",
        "################################################\n",
        "# --- Agente 2: Buscador de Receitas ---\n",
        "################################################\n",
        "def agente_buscador(informacoes_do_usuario):\n",
        "    buscador = Agent(\n",
        "        name=\"agente_buscador\",\n",
        "        model=\"gemini-2.5-flash-preview-04-17\",\n",
        "        instruction=\"\"\"\n",
        "        Você é um agente culinário que vai receber informações do usuário e buscar receitas baseadas nelas.\n",
        "        Considera que sal, óleo, açúcar e temperos como orégano e pimenta preta sempre estarão disponíveis para uso.\n",
        "        Sua tarefa é aproveitar o máximo possível dos ingredientes disponíveis, tentando sempre usar todos eles.\n",
        "        Pode ser bem criativo nos pratos, utilize a ferramenta de busca do Google (google_search) para conseguir mais pratos em sites de receitas.\n",
        "\n",
        "        Você fará uma busca aprofundada usando a busca do Google (google_search) para encontrar receitas que contenham os ingredientes disponíveis.\n",
        "        Selecione CINCO RECEITAS que melhor se enquadram nos requisitos recebidos. Observe atentamente:\n",
        "        - O tempo disponível para preparo da receita.\n",
        "        - A disponibilidade de compra de novos ingredientes e o orçamento da pessoa para isso.\n",
        "        - Se algo não se enquadrar, a receita pode ser substituída por outra que se encaixe.\n",
        "\n",
        "        Crie uma lista com as cinco receitas, contendo para cada uma delas:\n",
        "        - Os ingredientes que a pessoa já possui e os que faltam (lista de compra necessária).\n",
        "        - Locais comuns onde a compra pode ser feita (se houver), usando a ferramenta de busca do Google (google_search) para pesquisar nas proximidades do local informado.\n",
        "        - Uma estimativa do tempo de preparo e sua dificuldade (fácil, médio, difícil), utilizando o Google (google_search) para pesquisar.\n",
        "        - Uma breve descrição do prato, comparando os pontos positivos e negativos, levando em conta as informações recebidas e pesquisando com o Google (google_search) se necessário.\n",
        "        \"\"\",\n",
        "        description=\"Agente buscador de receitas\",\n",
        "        tools=[google_search]\n",
        "    )\n",
        "    entrada_para_o_buscador = informacoes_do_usuario\n",
        "    receitas_encontradas = call_agent(buscador, entrada_para_o_buscador)\n",
        "    return receitas_encontradas\n",
        "\n",
        "######################################\n",
        "# --- Agente 3: Criador de Roteiros de Compra ---\n",
        "######################################\n",
        "def agente_de_compra(informacoes_basicas_usuario, receitas_e_listas_de_compra):\n",
        "    redator = Agent(\n",
        "        name=\"agente_de_compra\",\n",
        "        model=\"gemini-2.5-flash-preview-04-17\",\n",
        "        instruction=\"\"\"\n",
        "        Você é um agente especializado em criar roteiros de compra inteligentes.\n",
        "        Você receberá informações detalhadas do usuário (incluindo localização) e uma lista de receitas com suas respectivas listas de compra (ou a indicação de que nenhuma compra é necessária).\n",
        "\n",
        "        Sua missão é:\n",
        "        1.  **Analisar as receitas recebidas:** Para cada receita, verifique se uma lista de compra é necessária.\n",
        "        2.  **Se NENHUMA compra for necessária:** Adicione uma observação simples ao final das informações daquela receita, indicando que \"Nenhuma compra adicional é necessária para esta receita.\".\n",
        "        3.  **Se EXISTIR lista de compras:**\n",
        "            * **Extrair Localização:** Use a 'Localização para compras' fornecida nas informações básicas do usuário como ponto de partida (origem) para o roteiro. Você pode deixar a localidade mais precisa usando a ferramenta de busca do Google (google_search).\n",
        "            * **Pesquisar Lojas/Mercados:** Para os itens da lista de compras da receita, use a ferramenta de busca do Google (google_search) para tentar encontrar supermercados, mercearias ou mercados próximos à localidade do usuário que possam ter esses ingredientes. Priorize locais com boas avaliações ou menções de bons preços. Refine a busca.\n",
        "            * **Estimar Trajeto e Tempo:** Para o(s) local(is) de compra identificado(s):\n",
        "                * Use a ferramenta de busca do Google (google_search) para pesquisar e estimar o tempo de deslocamento DE IDA E VOLTA entre a localização do usuário e a(s) loja(s) de compra.\n",
        "                * Faça essa estimativa para **três métodos de deslocamento**: a pé, de carro e de bicicleta. Ex: \"Tempo estimado (ida e volta): Carro - 15 min, Bicicleta - 30 min, A pé - 1 hora.\"\n",
        "            * **Estimar Valor Gasto:** Use a ferramenta de busca do Google (google_search) para pesquisar estimativas de preço para os itens da lista de compras em locais relevantes, ou para encontrar avaliações gerais sobre o custo-benefício de lojas específicas. Informe que a estimativa é aproximada. Ex: \"Estimativa de custo dos itens na loja X: R$ [valor estimado].\"\n",
        "            * **Criar Roteiro Simples:** Apresente os locais de compra sugeridos e a estimativa de deslocamento/custo de forma clara e concisa para cada receita com lista de compras. Exiba uma estimativa de tempo total.\n",
        "        4.  **Formato de Saída:** Retorne todas as informações das receitas originais, mas agora acrescidas dos detalhes do roteiro de compra (ou da indicação de não necessidade de compra) ao final de cada bloco de receita.\n",
        "\n",
        "        **Lembre-se:** Você não tem acesso a um Google Maps API em tempo real, então suas estimativas de tempo e localização serão baseadas nos resultados que você encontrar com a ferramenta de busca do Google (google_search).\n",
        "        \"\"\",\n",
        "        description=\"Agente organizador de roteiros de compras baseado em lista de compras e localização do usuário\",\n",
        "        tools=[google_search]\n",
        "    )\n",
        "    entrada_para_o_agente_de_compra = (\n",
        "        f\"Informações básicas do usuário:\\n{informacoes_basicas_usuario}\\n\\n\"\n",
        "        f\"Receitas e listas de compra:\\n{receitas_e_listas_de_compra}\"\n",
        "    )\n",
        "    roteiros_de_compra = call_agent(redator, entrada_para_o_agente_de_compra)\n",
        "    return roteiros_de_compra\n",
        "\n",
        "##########################################\n",
        "# --- Agente 4: Seletor de Receita ---\n",
        "##########################################\n",
        "def agente_seletor(informacoes_basicas_usuario, data_e_hora_atual, roteiros_de_compra_e_receitas):\n",
        "    seletor_de_receita = Agent(\n",
        "        name=\"agente_seletor\",\n",
        "        model=\"gemini-2.5-flash-preview-04-17\",\n",
        "        instruction=\"\"\"\n",
        "        Você é um agente inteligente e muito atencioso, cuja tarefa principal é **selecionar a receita mais apropriada** para o usuário e gerar um **roteiro detalhado** de execução.\n",
        "\n",
        "        Você receberá:\n",
        "        1.  **Informações do usuário:** Detalhes sobre ingredientes disponíveis, disposição para comprar, orçamento, localização, tempo total disponível e momento desejado para o preparo.\n",
        "        2.  **Data e hora atual:** O momento exato em que a decisão precisa ser tomada.\n",
        "            **ATENÇÃO:** Esta data e hora é o ponto de partida **EXATO** para todos os seus cálculos e planejamento temporal. Use o dia da semana, dia, mês e ano fornecidos aqui fielmente.\n",
        "        3.  **Receitas pré-selecionadas com roteiros de compra:** Uma lista de receitas, cada uma com seus ingredientes necessários, lista de compras (se houver), e os roteiros de compra (tempos de deslocamento e custos), ou a indicação de que não há compras necessárias.\n",
        "\n",
        "        Sua conduta:\n",
        "        * **Análise de Viabilidade:** Para CADA receita, avalie cuidadosamente sua viabilidade considerando:\n",
        "            * **Ingredientes:** Quanto a receita aproveita dos ingredientes que o usuário já possui.\n",
        "            * **Orçamento e Compras:** Se há itens a comprar e se o orçamento do usuário é suficiente.\n",
        "            * **Tempo Total:** Se o tempo disponível do usuário é compatível com o tempo de preparo da receita *mais o tempo estimado de deslocamento para compras* (ida e volta, incluindo tempo na loja), caso haja compras.\n",
        "            * **Disponibilidade Temporal (crucial!):** Compare a **data e hora atual** com o \"Momento de preparo\" desejado pelo usuário e os \"horários de funcionamento\" das lojas (se houver compras).\n",
        "                Use a ferramenta debusca do Google (google_search) para **verificar os horários de abertura e fechamento** de lojas sugeridas (com base na localização do usuário e nos tipos de lojas que vendem os ingredientes).\n",
        "                * Certifique-se de que há tempo hábil para ir e voltar das compras (se necessárias) *antes* que o preparo da receita comece ou antes que as lojas fechem.\n",
        "                **REFORÇO:** Ao mencionar a data e hora em sua resposta, sempre use a data e o dia da semana conforme recebido na 'Data e hora atual'.\n",
        "\n",
        "        * **Seleção da Melhor Receita:** Após a análise de viabilidade, selecione **apenas UMA** receita que melhor se encaixe em *todos* os critérios do usuário, priorizando a que:\n",
        "            * Melhor se adapta ao tempo disponível e momento de preparo desejado.\n",
        "            * Exija menos esforço ou custo em compras, se possível.\n",
        "            * Seja realista para ser executada dadas as restrições de tempo e horário de funcionamento das lojas.\n",
        "        * **Geração do Roteiro Final:** Para a receita selecionada, crie um **roteiro passo a passo** detalhado, desde o **momento atual** até o início do preparo da receita, incluindo:\n",
        "            * **Horário de Início:** O momento atual (data e hora atual).\n",
        "            * **Etapas de Compra (se necessárias):** Horário de saída para compras, método de transporte sugerido (o mais eficiente ou adequado ao tempo), locais sugeridos e horário estimado de retorno. (Lembre-se de utilizar a ferramenta de busca do Google (google_search) para validar as informações de horário de funcionamento dos estabeleciemntos).\n",
        "            * **Etapas de Preparo:** Horário sugerido para iniciar o preparo da receita, tempo estimado de preparo.\n",
        "            * **Horário Final:** O momento em que a receita estaria pronta.\n",
        "            * Qualquer outra dica relevante para a execução do plano.\n",
        "\n",
        "        **Formato de Saída:**\n",
        "        Sua resposta final deve ser um texto claro e direto, apresentando:\n",
        "        1.  A receita selecionada (Nome da Receita).\n",
        "        2.  O roteiro detalhado do plano de execução (passo a passo com horários e ações, Ex.: \"Às 18:00 de hoje vá a tal supermercado (Ida e volta estimada em X minutos a pé, Y minutos de carro e Z minutos de bicicleta)...\").\n",
        "        3.  O passo a passo da receita, como prepará-la.\n",
        "        \"\"\",\n",
        "        description=\"Agente que seleciona a melhor receita e cria um roteiro de execução detalhado, considerando tempo e disponibilidade.\",\n",
        "        tools=[google_search]\n",
        "    )\n",
        "    entrada_do_agente_seletor = (\n",
        "        f\"Informações do usuário:\\n{informacoes_basicas_usuario}\\n\\n\"\n",
        "        f\"Data e hora atual: {data_e_hora_atual}\\n\\n\"\n",
        "        f\"Receitas disponíveis e roteiros de compra:\\n{roteiros_de_compra_e_receitas}\"\n",
        "    )\n",
        "    receita_selecionada_e_roteiro = call_agent(seletor_de_receita, entrada_do_agente_seletor)\n",
        "    return receita_selecionada_e_roteiro\n",
        "\n",
        "\n",
        "\n",
        "##########################################\n",
        "# --- Agente 5: Revisor Culinário ---\n",
        "##########################################\n",
        "def agente_revisor_culinario(informacoes_para_revisao):\n",
        "    revisor = Agent(\n",
        "        name=\"agente_revisor_culinario\",\n",
        "        model=\"gemini-2.5-flash-preview-04-17\",\n",
        "        instruction=\"\"\"\n",
        "        Você é o Agente Revisor Culinário, sua tarefa final é pegar o roteiro completo da receita escolhida e o plano de execução, e apresentá-los ao usuário da forma mais clara, direta e envolvente possível. Lembre-se: as informações devem estar todas em Português do Brasil!\n",
        "\n",
        "        Você receberá um texto contendo:\n",
        "        - O nome da receita selecionada.\n",
        "        - O roteiro detalhado de execução (incluindo compras, horários e deslocamentos).\n",
        "        - O passo a passo de preparo da receita.\n",
        "\n",
        "        Sua conduta:\n",
        "        - Leia e compreenda totalmente as informações fornecidas.\n",
        "        - Formate a saída de maneira que seja fácil de ler e seguir para o usuário final.\n",
        "        - Use cabeçalhos claros e bullet points ou listas numeradas quando apropriado para organizar a informação.\n",
        "        - Destaque as informações mais importantes (como o nome da receita, horários críticos e ingredientes principais).\n",
        "        - Não adicione novas informações, nem faça novas buscas, nem altere o conteúdo factualmente. Seu objetivo é apenas otimizar a apresentação da informação já gerada.\n",
        "        - Seja amigável, encorajador e útil em seu tom.\n",
        "\n",
        "        **Formato de Saída:**\n",
        "        Apresente a informação de forma estruturada e amigável, seguindo este esquema:\n",
        "\n",
        "        Comece com uma introdução calorosa e entusiasmada, anunciando a receita escolhida.\n",
        "        Em seguida, apresente o 'Seu Roteiro de Execução Detalhado' com os horários e passos de compra/preparo, incluindo a localidade dos estabelecimentos de compra.\n",
        "        Por fim, apresente o 'Passo a Passo para o Preparo da Receita' com as instruções culinárias.\n",
        "        Finalize com uma mensagem de encorajamento.\n",
        "\n",
        "        Exemplo de Estrutura de Saída (adapte o conteúdo):\n",
        "        ## Sua Receita Perfeita: [Nome da Receita Selecionada]!\n",
        "\n",
        "        Que ótima escolha! Prepare-se para cozinhar algo delicioso com este plano super prático que preparamos para você:\n",
        "\n",
        "        ---\n",
        "\n",
        "        ### Seu Roteiro de Execução Detalhado\n",
        "\n",
        "        * **[Horário de Início]**: [Ação]\n",
        "        * **[Horário Estimado]**: [Ação]\n",
        "        ...\n",
        "        * **[Horário Estimado que a Refeição Estará Pronta]**: [Ação]\n",
        "\n",
        "        ---\n",
        "\n",
        "        ### Passo a Passo para o Preparo da Receita\n",
        "\n",
        "        1.  [Primeiro passo]\n",
        "        2.  [Segundo passo]\n",
        "        ...\n",
        "        [Último passo]\n",
        "\n",
        "        ---\n",
        "\n",
        "        Aproveite seu momento na cozinha! Boa sorte e bom apetite!\n",
        "        \"\"\",\n",
        "        description=\"Agente que revisa e formata as informações finais da receita e roteiro para apresentação clara ao usuário.\"\n",
        "    )\n",
        "    final_output = call_agent(revisor, informacoes_para_revisao)\n",
        "    return final_output\n"
      ],
      "metadata": {
        "id": "RRzZqlvPNh9V"
      },
      "execution_count": 24,
      "outputs": []
    },
    {
      "cell_type": "code",
      "source": [
        "# --- Fluxo Principal de Execução ---\n",
        "\n",
        "# 1. Obtenção da Data e Hora Atual no Fuso Horário do Brasil\n",
        "fuso_horario_brasil = pytz.timezone('America/Sao_Paulo')\n",
        "# A boa prática é obter o horário UTC e depois converter para o fuso local desejado\n",
        "data_e_hora_atual_tz = datetime.datetime.now(pytz.utc).astimezone(fuso_horario_brasil)\n",
        "# Formate a data e hora para passar para os agentes, incluindo nome e offset do fuso\n",
        "data_e_hora_formatada_para_agente = data_e_hora_atual_tz.strftime(\"%A, %d de %B de %Y, %H:%M:%S %Z%z\")\n",
        "\n",
        "# 2. Iniciar a Interação com o Agente Investigador\n",
        "agente_de_coleta = agente_investigador() # Não precisa de parâmetros iniciais aqui\n",
        "display(to_markdown(f\"**E aí, mestre-cuca! 🧑‍🍳 Chega de sofrer pra decidir o rango, né?**\\n\\nEu sou o **ChefIA**, seu novo parceiro culinário inteligente, e tô aqui pra virar essa chave na sua cozinha! Bora transformar **o que você tem por aí** em pratos incríveis, sem estresse e com muito sabor?\\n\\nPra começar, qual a boa de hoje na sua despensa, geladeira, horta...?\"))\n",
        "\n",
        "informacoes_coletadas = \"\" # Variável para armazenar a resposta final do agente_investigador\n",
        "historico_conversacao = []\n",
        "\n",
        "while True:\n",
        "    user_input = input(\"Você: \")\n",
        "    historico_conversacao.append(f\"Usuário: {user_input}\")\n",
        "\n",
        "    contexto_para_agente = \"\\n\".join(historico_conversacao)\n",
        "    agent_response = call_agent(agente_de_coleta, contexto_para_agente)\n",
        "    historico_conversacao.append(f\"Agente: {agent_response}\")\n",
        "\n",
        "    if agent_response.strip().startswith(\"FIM\"):\n",
        "        output_agente1 = agent_response.replace(\"FIM\\n\", \"\", 1).strip()\n",
        "        print(\"\\nInformações coletadas com sucesso!\\n\")\n",
        "        display(to_markdown(output_agente1))\n",
        "        break\n",
        "    else:\n",
        "        display(to_markdown(f\"Agente: {agent_response}\"))\n",
        "\n",
        "display(to_markdown(\"\\n**Trabalhando na sua solicitação. Aguarde, isso pode levar alguns instantes...**\"))\n",
        "# 3. Chamar o Agente Buscador de Receitas\n",
        "#print(\"\\n--- Próxima Etapa: Buscando Receitas ---\")\n",
        "receitas_sugeridas = agente_buscador(output_agente1)\n",
        "#print(receitas_sugeridas)\n",
        "\n",
        "# 4. Chamar o Agente Criador de Roteiros de Compra\n",
        "#print(\"\\n--- Próxima Etapa: Criando Roteiros de Compra ---\")\n",
        "roteiros_de_compra_finais = agente_de_compra(output_agente1, receitas_sugeridas)\n",
        "#print(roteiros_de_compra_finais)\n",
        "\n",
        "# 5. Chamar o Agente Seletor de Receita e Gerar Roteiro Final\n",
        "#print(\"\\n--- Próxima Etapa: Selecionando a Receita e Criando o Roteiro Final ---\")\n",
        "\n",
        "receita_e_roteiro_final = agente_seletor(\n",
        "    informacoes_basicas_usuario=output_agente1,\n",
        "    data_e_hora_atual=data_e_hora_formatada_para_agente,\n",
        "    roteiros_de_compra_e_receitas=roteiros_de_compra_finais\n",
        ")\n",
        "# print(receita_e_roteiro_final) # Você pode comentar esta linha se quiser apenas a saída final do revisor\n",
        "\n",
        "# 6. Chamar o Agente Revisor Culinário para Formatação Final\n",
        "#print(\"\\n--- Próxima Etapa: Preparando a Apresentação Final para Você! ---\")\n",
        "output_final_para_usuario = agente_revisor_culinario(receita_e_roteiro_final)\n",
        "display(to_markdown(output_final_para_usuario))\n"
      ],
      "metadata": {
        "colab": {
          "base_uri": "https://localhost:8080/",
          "height": 1000
        },
        "id": "HnMpH2eRtxb8",
        "outputId": "47b54508-55b0-4c59-f6a2-28d7818644bf"
      },
      "execution_count": 32,
      "outputs": [
        {
          "output_type": "display_data",
          "data": {
            "text/plain": [
              "<IPython.core.display.Markdown object>"
            ],
            "text/markdown": "> **E aí, mestre-cuca! 🧑‍🍳 Chega de sofrer pra decidir o rango, né?**\n> \n> Eu sou o **ChefIA**, seu novo parceiro culinário inteligente, e tô aqui pra virar essa chave na sua cozinha! Bora transformar **o que você tem por aí** em pratos incríveis, sem estresse e com muito sabor?\n> \n> Pra começar, qual a boa de hoje na sua despensa, geladeira, horta...?"
          },
          "metadata": {}
        },
        {
          "name": "stdout",
          "output_type": "stream",
          "text": [
            "Você: carré de porco, pimenta preta\n"
          ]
        },
        {
          "output_type": "display_data",
          "data": {
            "text/plain": [
              "<IPython.core.display.Markdown object>"
            ],
            "text/markdown": "> Agente: Beleza! Já anotei aqui o carré de porco e a pimenta preta. 😉\n> \n> E aí, topa comprar mais algum ingrediente pra essa aventura culinária?\n"
          },
          "metadata": {}
        },
        {
          "name": "stdout",
          "output_type": "stream",
          "text": [
            "Você: sim\n"
          ]
        },
        {
          "output_type": "display_data",
          "data": {
            "text/plain": [
              "<IPython.core.display.Markdown object>"
            ],
            "text/markdown": "> Agente: Massa! E quanto você quer gastar no máximo pra completar os ingredientes? 🤔\n"
          },
          "metadata": {}
        },
        {
          "name": "stdout",
          "output_type": "stream",
          "text": [
            "Você: 20 reais\n"
          ]
        },
        {
          "output_type": "display_data",
          "data": {
            "text/plain": [
              "<IPython.core.display.Markdown object>"
            ],
            "text/markdown": "> Agente: Show de bola, R$ 20! 💰 Agora, pra eu te ajudar a encontrar onde comprar, me passa o seu endereço completo (rua, número, bairro, cidade e estado), por favor? Assim consigo dar uma olhada nas redondezas! 😉\n"
          },
          "metadata": {}
        },
        {
          "name": "stdout",
          "output_type": "stream",
          "text": [
            "Você: Rua Geremias Aires, 1313 - Setor Aeroporto - Porto Nacional - TO\n"
          ]
        },
        {
          "output_type": "display_data",
          "data": {
            "text/plain": [
              "<IPython.core.display.Markdown object>"
            ],
            "text/markdown": "> Agente: Massa! Endereço anotado: Rua Geremias Aires, 1313 - Setor Aeroporto - Porto Nacional - TO. 😉\n> \n> Agora me diz, quanto tempo total você tem disponível para preparar essa receita, sem contar o tempo de ir comprar os ingredientes? ⏱️\n"
          },
          "metadata": {}
        },
        {
          "name": "stdout",
          "output_type": "stream",
          "text": [
            "Você: 1 hora\n"
          ]
        },
        {
          "output_type": "display_data",
          "data": {
            "text/plain": [
              "<IPython.core.display.Markdown object>"
            ],
            "text/markdown": "> Agente: Beleza, 1 hora de preparo anotada! 😉\n> \n> E pra fechar, quando você pretende colocar a mão na massa e preparar essa delícia? 🗓️⏰\n"
          },
          "metadata": {}
        },
        {
          "output_type": "stream",
          "name": "stdout",
          "text": [
            "Você: hoje 21h\n",
            "\n",
            "Informações coletadas com sucesso!\n",
            "\n"
          ]
        },
        {
          "output_type": "display_data",
          "data": {
            "text/plain": [
              "<IPython.core.display.Markdown object>"
            ],
            "text/markdown": "> Ingredientes disponíveis: carré de porco, pimenta preta\n> Disposto a comprar ingredientes: Sim\n> Orçamento para compras: R$ 20\n> Localização para compras: Rua Geremias Aires, 1313 - Setor Aeroporto - Porto Nacional - TO\n> Tempo disponível para preparo: 1 hora\n> Data e hora desejada para preparo: hoje 21h"
          },
          "metadata": {}
        },
        {
          "output_type": "display_data",
          "data": {
            "text/plain": [
              "<IPython.core.display.Markdown object>"
            ],
            "text/markdown": "> \n> **Trabalhando na sua solicitação. Aguarde, isso pode levar alguns instantes...**"
          },
          "metadata": {}
        },
        {
          "output_type": "display_data",
          "data": {
            "text/plain": [
              "<IPython.core.display.Markdown object>"
            ],
            "text/markdown": "> Olá! Que maravilha! Parece que encontramos a receita perfeita para o seu dia de hoje, encaixando direitinho no seu tempo e orçamento.\n> \n> Como seu Agente Revisor Culinário, organizei todas as informações para que você tenha um roteiro claro e prático para preparar uma deliciosa **Bisteca (Carré) de Porco Rápida na Frigideira**!\n> \n> ---\n> \n> ## Sua Receita Perfeita: Bisteca (Carré) de Porco Rápida na Frigideira!\n> \n> Que ótima escolha! Prepare-se para cozinhar algo delicioso com este plano super prático que preparamos para você. É rápido, saboroso e se encaixa perfeitamente no seu dia!\n> \n> ---\n> \n> ### Seu Roteiro de Execução Detalhado\n> \n> *   **15:06 de hoje, Domingo, 18 de maio de 2025**: Momento atual.\n> *   **15:15 de hoje, Domingo, 18 de maio de 2025**: Saia para fazer as compras necessárias (alho e manteiga - opcionais).\n>     *   **Local Sugerido**: Um supermercado próximo no Setor Aeroporto (Rua Aires Joca, próximo ao Supermercado Rodrigues, se for conveniente) ou o Ideal Supermercado na região central de Porto Nacional. Lembre-se de verificar horários de domingo!\n>     *   **Transporte Sugerido**: Bicicleta (20-30 min ida e volta) ou carro (10-15 min ida e volta) são ideais para otimizar o tempo. A pé (40-60 min ida e volta) exigirá agilidade na compra.\n>     *   **Tempo na loja**: Estime 15-20 minutos para as compras.\n>     *   **Horário estimado de retorno**: Dependendo do transporte, entre **15:40 (carro)** e **16:40 (a pé)**.\n> *   **16:40 - 20:30 de hoje, Domingo, 18 de maio de 2025**: Tempo livre para relaxar e se preparar. Deixe os utensílios à mão para a hora de cozinhar!\n> *   **20:30 de hoje, Domingo, 18 de maio de 2025**: Inicie o preparo da receita.\n> *   **20:50 - 21:00 de hoje, Domingo, 18 de maio de 2025**: Sua Bisteca (Carré) de Porco Rápida na Frigideira estará pronta para ser servida!\n> \n> ---\n> \n> ### Passo a Passo para o Preparo da Receita\n> \n> 1.  Tempere o carré de porco com sal, pimenta preta e orégano (se estiver usando). Certifique-se de cobrir todos os lados.\n> 2.  Aqueça um fio de óleo em uma frigideira em fogo médio-alto. Se estiver usando manteiga (opcional), adicione-a junto com o óleo para dourar.\n> 3.  Quando o óleo (e manteiga) estiver quente, coloque o carré na frigideira. Não coloque muitos pedaços ao mesmo tempo para não esfriar a frigideira. Doure bem os dois lados até obter uma crosta bonita.\n> 4.  Reduza o fogo para médio e cozinhe por mais alguns minutos de cada lado, dependendo da espessura do carré e do ponto de cozimento desejado. Para saber se está pronto, você pode fazer um pequeno corte em um pedaço para verificar o interior.\n> 5.  Se estiver usando alho, adicione-o picado nos últimos minutos para aromatizar, tomando cuidado para não queimar.\n> 6.  Retire o carré da frigideira e deixe descansar por alguns minutos antes de servir. Isso ajuda a manter a suculência da carne.\n> 7.  Sirva imediatamente.\n> \n> ---\n> \n> Aproveite seu momento na cozinha e o sabor delicioso que está por vir! Boa sorte e bom apetite!\n"
          },
          "metadata": {}
        }
      ]
    }
  ]
}